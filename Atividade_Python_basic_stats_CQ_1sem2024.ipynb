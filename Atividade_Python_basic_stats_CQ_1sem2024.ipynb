{
  "nbformat": 4,
  "nbformat_minor": 0,
  "metadata": {
    "colab": {
      "provenance": []
    },
    "kernelspec": {
      "name": "python3",
      "display_name": "Python 3"
    },
    "language_info": {
      "name": "python"
    }
  },
  "cells": [
    {
      "cell_type": "code",
      "source": [
        "# Nome:                                         RA:"
      ],
      "metadata": {
        "id": "AZhh_6F8YyY2"
      },
      "execution_count": null,
      "outputs": []
    },
    {
      "cell_type": "code",
      "execution_count": null,
      "metadata": {
        "id": "FrigIfT3YpGb"
      },
      "outputs": [],
      "source": [
        "from statistics import mean\n",
        "from statistics import median\n",
        "from statistics import stdev\n",
        "import pandas as pd\n",
        "import matplotlib as plt"
      ]
    },
    {
      "cell_type": "code",
      "source": [
        "# INSIRA NA CÉLULA ABAIXO AS MEDIDAS DE VOCÊ COLETOU\n",
        "    # Siga o exemplo ----> medidas=[4.9,5.05,4.95,4.9,5.05,5.03,4.95,4.9,5.03,4.98]"
      ],
      "metadata": {
        "id": "mVE6YngzY9k8"
      },
      "execution_count": null,
      "outputs": []
    },
    {
      "cell_type": "code",
      "source": [],
      "metadata": {
        "id": "2eyS3jU_Y5Yd"
      },
      "execution_count": 1,
      "outputs": []
    },
    {
      "cell_type": "code",
      "source": [
        "# USANDO AS FUNÇÕES NATIVAS DO PYTHON:"
      ],
      "metadata": {
        "id": "ARSHsK6NaeYE"
      },
      "execution_count": null,
      "outputs": []
    },
    {
      "cell_type": "code",
      "source": [
        "# FAÇA A LISTA DAS MEDIDAS APARECER ESCRITA NA SUA TELA"
      ],
      "metadata": {
        "id": "3SG6PBrdZhYW"
      },
      "execution_count": null,
      "outputs": []
    },
    {
      "cell_type": "code",
      "source": [],
      "metadata": {
        "id": "gzkUB6VbZzp0"
      },
      "execution_count": null,
      "outputs": []
    },
    {
      "cell_type": "code",
      "source": [
        "# ENCONTRE A QUANTIDADE TOTAL DE MEDIDAS"
      ],
      "metadata": {
        "id": "CEHk6JVAcLL1"
      },
      "execution_count": null,
      "outputs": []
    },
    {
      "cell_type": "code",
      "source": [],
      "metadata": {
        "id": "bHIjnl8vcLeW"
      },
      "execution_count": null,
      "outputs": []
    },
    {
      "cell_type": "code",
      "source": [
        "# ENCONTRE O VALOR MÍNIMO DAS MEDIDAS"
      ],
      "metadata": {
        "id": "_IzbWtC4ZxQn"
      },
      "execution_count": null,
      "outputs": []
    },
    {
      "cell_type": "code",
      "source": [],
      "metadata": {
        "id": "yHjA5kBTaBBv"
      },
      "execution_count": null,
      "outputs": []
    },
    {
      "cell_type": "code",
      "source": [
        "# ENCONTRE O VALOR MÁXIMO DAS MEDIDAS"
      ],
      "metadata": {
        "id": "3yVXcTH4aBbT"
      },
      "execution_count": null,
      "outputs": []
    },
    {
      "cell_type": "code",
      "source": [],
      "metadata": {
        "id": "z7gPbucqaF00"
      },
      "execution_count": null,
      "outputs": []
    },
    {
      "cell_type": "code",
      "source": [
        "# CALCULE A SOMA DAS MEDIDAS"
      ],
      "metadata": {
        "id": "oCGFmSFuaNqc"
      },
      "execution_count": null,
      "outputs": []
    },
    {
      "cell_type": "code",
      "source": [],
      "metadata": {
        "id": "NzJrQoMjaRKD"
      },
      "execution_count": null,
      "outputs": []
    },
    {
      "cell_type": "code",
      "source": [
        "# CALCULE A MÉDIA DAS MEDIDAS DIVIDINDO A SOMA PELA QUANTIDADE TOTAL"
      ],
      "metadata": {
        "id": "QD7iCjNGaRSt"
      },
      "execution_count": null,
      "outputs": []
    },
    {
      "cell_type": "code",
      "source": [],
      "metadata": {
        "id": "VRkqU8mwapXB"
      },
      "execution_count": null,
      "outputs": []
    },
    {
      "cell_type": "code",
      "source": [
        "# CALCULE A MÉDIA DAS MEDIDAS COM A FUNÇÃO DE MÉDIA"
      ],
      "metadata": {
        "id": "8jpGNoKFayru"
      },
      "execution_count": null,
      "outputs": []
    },
    {
      "cell_type": "code",
      "source": [],
      "metadata": {
        "id": "M3LsGXRDa-GE"
      },
      "execution_count": null,
      "outputs": []
    },
    {
      "cell_type": "code",
      "source": [
        "# CALCULE A MEDIANA DAS MEDIDAS"
      ],
      "metadata": {
        "id": "M5G5Lcpsa-LW"
      },
      "execution_count": null,
      "outputs": []
    },
    {
      "cell_type": "code",
      "source": [],
      "metadata": {
        "id": "Gbtua1LsbDiE"
      },
      "execution_count": null,
      "outputs": []
    },
    {
      "cell_type": "code",
      "source": [
        "# CALCULE O DESVIO PADRÃO DAS MEDIDAS"
      ],
      "metadata": {
        "id": "O_QvY2yWbEg1"
      },
      "execution_count": null,
      "outputs": []
    },
    {
      "cell_type": "code",
      "source": [],
      "metadata": {
        "id": "yOiyIKv5bK42"
      },
      "execution_count": null,
      "outputs": []
    },
    {
      "cell_type": "code",
      "source": [
        "# AGORA UTILIZE O PANDAS"
      ],
      "metadata": {
        "id": "33YNExzmbMTM"
      },
      "execution_count": null,
      "outputs": []
    },
    {
      "cell_type": "code",
      "source": [
        "# INSIRA NA CÉLULA ABAIXO AS MEDIDAS DE VOCÊ COLETOU\n",
        "    # Siga o exemplo -----> df=pd.DataFrame({'medidas':[4.9,5.05,4.95,4.9,5.05,5.03,4.95,4.9,5.03,4.98]})"
      ],
      "metadata": {
        "id": "_OOsgqukbTNd"
      },
      "execution_count": null,
      "outputs": []
    },
    {
      "cell_type": "code",
      "source": [],
      "metadata": {
        "id": "RcwHE-Nybib7"
      },
      "execution_count": null,
      "outputs": []
    },
    {
      "cell_type": "code",
      "source": [
        "# FAÇA A LISTA DAS MEDIDAS APARECER ESCRITA NA SUA TELA"
      ],
      "metadata": {
        "id": "Ok4uayRwblB8"
      },
      "execution_count": null,
      "outputs": []
    },
    {
      "cell_type": "code",
      "source": [],
      "metadata": {
        "id": "FUcfmPTjbxQc"
      },
      "execution_count": null,
      "outputs": []
    },
    {
      "cell_type": "code",
      "source": [
        "# ENCONTRE A QUANTIDADE TOTAL DE MEDIDAS\n",
        "# ENCONTRE O VALOR MÍNIMO DAS MEDIDAS\n",
        "# ENCONTRE O VALOR MÁXIMO DAS MEDIDAS\n",
        "# CALCULE A MÉDIA DAS MEDIDAS\n",
        "# CALCULE A MEDIANA DAS MEDIDAS\n",
        "# CALCULE O DESVIO PADRÃO DAS MEDIDAS"
      ],
      "metadata": {
        "id": "2_r418zWbtaN"
      },
      "execution_count": null,
      "outputs": []
    },
    {
      "cell_type": "code",
      "source": [],
      "metadata": {
        "id": "7DYexfuPcjDs"
      },
      "execution_count": null,
      "outputs": []
    },
    {
      "cell_type": "code",
      "source": [
        "# PLOT UM BOXPLOT DOS SEUS DADOS"
      ],
      "metadata": {
        "id": "zmHEc9pScpMn"
      },
      "execution_count": null,
      "outputs": []
    },
    {
      "cell_type": "code",
      "source": [],
      "metadata": {
        "id": "yfCWJaqYcxN9"
      },
      "execution_count": null,
      "outputs": []
    },
    {
      "cell_type": "code",
      "source": [
        "# PLOT UM HISTOGRAMA DOS SEUS DADOS"
      ],
      "metadata": {
        "id": "9mibjyn0cxYU"
      },
      "execution_count": null,
      "outputs": []
    },
    {
      "cell_type": "code",
      "source": [],
      "metadata": {
        "id": "FDYbf1gdcxl3"
      },
      "execution_count": null,
      "outputs": []
    }
  ]
}